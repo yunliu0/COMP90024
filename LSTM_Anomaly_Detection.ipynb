{
  "nbformat": 4,
  "nbformat_minor": 0,
  "metadata": {
    "kernelspec": {
      "display_name": "Python 3",
      "language": "python",
      "name": "python3"
    },
    "language_info": {
      "codemirror_mode": {
        "name": "ipython",
        "version": 3
      },
      "file_extension": ".py",
      "mimetype": "text/x-python",
      "name": "python",
      "nbconvert_exporter": "python",
      "pygments_lexer": "ipython3",
      "version": "3.8.5"
    },
    "colab": {
      "name": "LSTM_Anomaly_Detection.ipynb",
      "provenance": [],
      "collapsed_sections": []
    }
  },
  "cells": [
    {
      "cell_type": "code",
      "metadata": {
        "id": "WE32-2_1q9QC",
        "colab_type": "code",
        "colab": {}
      },
      "source": [
        "import pandas as pd\n",
        "import tensorflow as tf\n",
        "from tensorflow import keras\n",
        "from tensorflow.keras import layers\n",
        "from keras.models import Sequential"
      ],
      "execution_count": 1,
      "outputs": []
    },
    {
      "cell_type": "code",
      "metadata": {
        "id": "e1q3GKyFq9QG",
        "colab_type": "code",
        "colab": {
          "base_uri": "https://localhost:8080/",
          "height": 35
        },
        "outputId": "8dc6aff4-0aed-47ab-eb04-b214f4484ffb"
      },
      "source": [
        "df_1=pd.read_csv('dc_part.csv')\n",
        "df_2=pd.read_csv('chenqin5%.csv')\n",
        "df_4=pd.read_csv('yunDataN.csv')\n",
        "print(df_1.shape,df_2.shape,df_4.shape)"
      ],
      "execution_count": 2,
      "outputs": [
        {
          "output_type": "stream",
          "text": [
            "(124293, 147) (124293, 92) (124293, 74)\n"
          ],
          "name": "stdout"
        }
      ]
    },
    {
      "cell_type": "markdown",
      "metadata": {
        "id": "n-fDmQXidApD",
        "colab_type": "text"
      },
      "source": [
        "# Mergeing the 4 parts of the datasets with the zero-rate less than 95%"
      ]
    },
    {
      "cell_type": "code",
      "metadata": {
        "id": "6m6MHarYYWEU",
        "colab_type": "code",
        "colab": {}
      },
      "source": [
        "data_parts=[df_1,df_2,df_4]\n",
        "useful=[] # the column names for each parts that have less than 95% zeros\n",
        "for ele in data_parts:\n",
        "  useful_sub=[]\n",
        "  for col in ele.columns:\n",
        "    if ele[col].isin([0]).sum()/ele.shape[0]<0.95:\n",
        "      useful_sub.append(col)\n",
        "  useful.append(useful_sub)\n",
        "useful[2]=useful[2][1:]  # drop unuseful column_name in the 4th part"
      ],
      "execution_count": 3,
      "outputs": []
    },
    {
      "cell_type": "code",
      "metadata": {
        "id": "O5ZNKlpHNrhA",
        "colab_type": "code",
        "colab": {}
      },
      "source": [
        "df_1=df_1.loc[:,useful[0]]\n",
        "df_2=df_2.loc[:,useful[1]]\n",
        "df_4=df_4.loc[:,useful[2]]"
      ],
      "execution_count": 4,
      "outputs": []
    },
    {
      "cell_type": "code",
      "metadata": {
        "id": "Ucd5-0LZlEvW",
        "colab_type": "code",
        "colab": {}
      },
      "source": [
        "result = pd.concat([df_1,df_2,df_4], axis=1, sort=False) # combine the dateset"
      ],
      "execution_count": 5,
      "outputs": []
    },
    {
      "cell_type": "code",
      "metadata": {
        "id": "glIvV3rinX1N",
        "colab_type": "code",
        "colab": {
          "base_uri": "https://localhost:8080/",
          "height": 511
        },
        "outputId": "bf2ec13d-ebba-493a-c4cb-e5d5f8f1c37a"
      },
      "source": [
        "result.head()"
      ],
      "execution_count": 6,
      "outputs": [
        {
          "output_type": "execute_result",
          "data": {
            "text/html": [
              "<div>\n",
              "<style scoped>\n",
              "    .dataframe tbody tr th:only-of-type {\n",
              "        vertical-align: middle;\n",
              "    }\n",
              "\n",
              "    .dataframe tbody tr th {\n",
              "        vertical-align: top;\n",
              "    }\n",
              "\n",
              "    .dataframe thead th {\n",
              "        text-align: right;\n",
              "    }\n",
              "</style>\n",
              "<table border=\"1\" class=\"dataframe\">\n",
              "  <thead>\n",
              "    <tr style=\"text-align: right;\">\n",
              "      <th></th>\n",
              "      <th>_key_client_id</th>\n",
              "      <th>_key_occurreddate_month</th>\n",
              "      <th>Total_incident_count</th>\n",
              "      <th>response_variable</th>\n",
              "      <th>incident_subcatgry_unknown_piv</th>\n",
              "      <th>prgcontct_other_organisation_piv</th>\n",
              "      <th>prgcontct_lwb_worker_piv</th>\n",
              "      <th>prgcontct_both_client_and_carer_piv</th>\n",
              "      <th>prgcontct_department_piv</th>\n",
              "      <th>prgcontct_family_piv</th>\n",
              "      <th>prgcontct_carer_piv</th>\n",
              "      <th>prgcontct_client_piv</th>\n",
              "      <th>prgcontct_meeting_group_of_people_piv_sum_n_days</th>\n",
              "      <th>prgcontct_other_organisation_piv_sum_n_days</th>\n",
              "      <th>prgcontct_educational_institution_piv_sum_n_days</th>\n",
              "      <th>prgcontct_lwb_worker_piv_sum_n_days</th>\n",
              "      <th>prgcontct_both_client_and_carer_piv_sum_n_days</th>\n",
              "      <th>prgcontct_health_professional_piv_sum_n_days</th>\n",
              "      <th>prgcontct_department_piv_sum_n_days</th>\n",
              "      <th>prgcontct_other_stakeholder_piv_sum_n_days</th>\n",
              "      <th>prgcontct_family_piv_sum_n_days</th>\n",
              "      <th>prgcontct_carer_piv_sum_n_days</th>\n",
              "      <th>prgcontct_client_piv_sum_n_days</th>\n",
              "      <th>prgcontct_meeting_group_of_people_piv_days_since</th>\n",
              "      <th>prgcontct_other_organisation_piv_days_since</th>\n",
              "      <th>prgcontct_meeting_lwb_internal_only_piv_days_since</th>\n",
              "      <th>prgcontct_educational_institution_piv_days_since</th>\n",
              "      <th>prgcontct_employer_piv_days_since</th>\n",
              "      <th>prgcontct_lwb_worker_piv_days_since</th>\n",
              "      <th>prgcontct_police_piv_days_since</th>\n",
              "      <th>prgcontct_both_client_and_carer_piv_days_since</th>\n",
              "      <th>prgcontct_health_professional_piv_days_since</th>\n",
              "      <th>prgcontct_department_piv_days_since</th>\n",
              "      <th>prgcontct_other_stakeholder_piv_days_since</th>\n",
              "      <th>prgcontct_family_piv_days_since</th>\n",
              "      <th>prgcontct_carer_piv_days_since</th>\n",
              "      <th>prgcontct_client_piv_days_since</th>\n",
              "      <th>progsubjcat_information_provided_piv</th>\n",
              "      <th>progsubjcat_case_discussion_planning_piv</th>\n",
              "      <th>progsubjcat_i_sight_client_incident_system_generated_piv</th>\n",
              "      <th>...</th>\n",
              "      <th>rowtype_reference_piv_avg_n_days</th>\n",
              "      <th>rowtype_client_address_addition_piv_days_since</th>\n",
              "      <th>rowtype_rp_end_piv_days_since</th>\n",
              "      <th>rowtype_rp_start_piv_days_since</th>\n",
              "      <th>rowtype_progress_note_piv_days_since</th>\n",
              "      <th>rowtype_diagnosis_piv_days_since</th>\n",
              "      <th>rowtype_medictn_start_piv_days_since</th>\n",
              "      <th>rowtype_client_plan_start_piv_days_since</th>\n",
              "      <th>rowtype_client_plan_end_piv_days_since</th>\n",
              "      <th>rowtype_keyworker_change_piv_days_since</th>\n",
              "      <th>rowtype_reference_piv_days_since</th>\n",
              "      <th>rowtype_medictn_end_piv_days_since</th>\n",
              "      <th>rowtype_plcment_end_piv_days_since</th>\n",
              "      <th>rowtype_incident_piv_days_since</th>\n",
              "      <th>rowtype_plcment_start_piv_days_since</th>\n",
              "      <th>rowtype_program_primary_service_type_start_piv_days_since</th>\n",
              "      <th>rowtype_client_alert_start_piv_days_since</th>\n",
              "      <th>rowtype_client_address_addition_piv_lag01</th>\n",
              "      <th>rowtype_rp_end_piv_lag01</th>\n",
              "      <th>rowtype_rp_start_piv_lag01</th>\n",
              "      <th>rowtype_progress_note_piv_lag01</th>\n",
              "      <th>rowtype_diagnosis_piv_lag01</th>\n",
              "      <th>rowtype_medictn_start_piv_lag01</th>\n",
              "      <th>rowtype_client_plan_start_piv_lag01</th>\n",
              "      <th>rowtype_client_plan_end_piv_lag01</th>\n",
              "      <th>rowtype_keyworker_change_piv_lag01</th>\n",
              "      <th>rowtype_reference_piv_lag01</th>\n",
              "      <th>rowtype_medictn_end_piv_lag01</th>\n",
              "      <th>rowtype_plcment_end_piv_lag01</th>\n",
              "      <th>rowtype_incident_piv_lag01</th>\n",
              "      <th>rowtype_plcment_start_piv_lag01</th>\n",
              "      <th>rowtype_program_primary_service_type_start_piv_lag01</th>\n",
              "      <th>rowtype_client_alert_start_piv_lag01</th>\n",
              "      <th>status_placement</th>\n",
              "      <th>status_client_plan</th>\n",
              "      <th>status_rp_mechanical_restraint</th>\n",
              "      <th>status_rp_restricted_access</th>\n",
              "      <th>status_rp_chemical_restraint</th>\n",
              "      <th>status_rp_other</th>\n",
              "      <th>Incident</th>\n",
              "    </tr>\n",
              "  </thead>\n",
              "  <tbody>\n",
              "    <tr>\n",
              "      <th>0</th>\n",
              "      <td>0000D172-EA88-432F-8235-9FAA00D29072</td>\n",
              "      <td>2019-04-01T00:00:00.0</td>\n",
              "      <td>0</td>\n",
              "      <td>0</td>\n",
              "      <td>29</td>\n",
              "      <td>0</td>\n",
              "      <td>0</td>\n",
              "      <td>0</td>\n",
              "      <td>0</td>\n",
              "      <td>1</td>\n",
              "      <td>0</td>\n",
              "      <td>0</td>\n",
              "      <td>0.0</td>\n",
              "      <td>0.0</td>\n",
              "      <td>0.0</td>\n",
              "      <td>0.0</td>\n",
              "      <td>0.0</td>\n",
              "      <td>0.0</td>\n",
              "      <td>0.0</td>\n",
              "      <td>0.0</td>\n",
              "      <td>1.0</td>\n",
              "      <td>0.0</td>\n",
              "      <td>0.0</td>\n",
              "      <td>3650</td>\n",
              "      <td>3650</td>\n",
              "      <td>3650</td>\n",
              "      <td>3650</td>\n",
              "      <td>3650</td>\n",
              "      <td>3650</td>\n",
              "      <td>3650</td>\n",
              "      <td>3650</td>\n",
              "      <td>3650</td>\n",
              "      <td>3650</td>\n",
              "      <td>3650</td>\n",
              "      <td>2868</td>\n",
              "      <td>3650</td>\n",
              "      <td>3650</td>\n",
              "      <td>0</td>\n",
              "      <td>1</td>\n",
              "      <td>0</td>\n",
              "      <td>...</td>\n",
              "      <td>1</td>\n",
              "      <td>603</td>\n",
              "      <td>355</td>\n",
              "      <td>376</td>\n",
              "      <td>890</td>\n",
              "      <td>515</td>\n",
              "      <td>492</td>\n",
              "      <td>761</td>\n",
              "      <td>555</td>\n",
              "      <td>345</td>\n",
              "      <td>2</td>\n",
              "      <td>425</td>\n",
              "      <td>469</td>\n",
              "      <td>703</td>\n",
              "      <td>527</td>\n",
              "      <td>577</td>\n",
              "      <td>488</td>\n",
              "      <td>0</td>\n",
              "      <td>0</td>\n",
              "      <td>0</td>\n",
              "      <td>0</td>\n",
              "      <td>0</td>\n",
              "      <td>0</td>\n",
              "      <td>0</td>\n",
              "      <td>0</td>\n",
              "      <td>0</td>\n",
              "      <td>0</td>\n",
              "      <td>0</td>\n",
              "      <td>0</td>\n",
              "      <td>0</td>\n",
              "      <td>0</td>\n",
              "      <td>0</td>\n",
              "      <td>0</td>\n",
              "      <td>2</td>\n",
              "      <td>2</td>\n",
              "      <td>1</td>\n",
              "      <td>2</td>\n",
              "      <td>2</td>\n",
              "      <td>2</td>\n",
              "      <td>0</td>\n",
              "    </tr>\n",
              "    <tr>\n",
              "      <th>1</th>\n",
              "      <td>0000D172-EA88-432F-8235-9FAA00D29072</td>\n",
              "      <td>2019-05-01T00:00:00.0</td>\n",
              "      <td>0</td>\n",
              "      <td>0</td>\n",
              "      <td>31</td>\n",
              "      <td>0</td>\n",
              "      <td>0</td>\n",
              "      <td>0</td>\n",
              "      <td>0</td>\n",
              "      <td>0</td>\n",
              "      <td>0</td>\n",
              "      <td>0</td>\n",
              "      <td>0.0</td>\n",
              "      <td>0.0</td>\n",
              "      <td>0.0</td>\n",
              "      <td>0.0</td>\n",
              "      <td>0.0</td>\n",
              "      <td>0.0</td>\n",
              "      <td>0.0</td>\n",
              "      <td>0.0</td>\n",
              "      <td>1.0</td>\n",
              "      <td>0.0</td>\n",
              "      <td>0.0</td>\n",
              "      <td>3650</td>\n",
              "      <td>3650</td>\n",
              "      <td>3650</td>\n",
              "      <td>3650</td>\n",
              "      <td>3650</td>\n",
              "      <td>3650</td>\n",
              "      <td>3650</td>\n",
              "      <td>3650</td>\n",
              "      <td>3650</td>\n",
              "      <td>3650</td>\n",
              "      <td>3650</td>\n",
              "      <td>22</td>\n",
              "      <td>3650</td>\n",
              "      <td>3650</td>\n",
              "      <td>0</td>\n",
              "      <td>0</td>\n",
              "      <td>0</td>\n",
              "      <td>...</td>\n",
              "      <td>1</td>\n",
              "      <td>603</td>\n",
              "      <td>355</td>\n",
              "      <td>376</td>\n",
              "      <td>21</td>\n",
              "      <td>515</td>\n",
              "      <td>492</td>\n",
              "      <td>761</td>\n",
              "      <td>555</td>\n",
              "      <td>345</td>\n",
              "      <td>0</td>\n",
              "      <td>425</td>\n",
              "      <td>469</td>\n",
              "      <td>703</td>\n",
              "      <td>527</td>\n",
              "      <td>577</td>\n",
              "      <td>488</td>\n",
              "      <td>1</td>\n",
              "      <td>1</td>\n",
              "      <td>1</td>\n",
              "      <td>2</td>\n",
              "      <td>1</td>\n",
              "      <td>1</td>\n",
              "      <td>1</td>\n",
              "      <td>1</td>\n",
              "      <td>1</td>\n",
              "      <td>38</td>\n",
              "      <td>1</td>\n",
              "      <td>1</td>\n",
              "      <td>1</td>\n",
              "      <td>1</td>\n",
              "      <td>1</td>\n",
              "      <td>1</td>\n",
              "      <td>2</td>\n",
              "      <td>2</td>\n",
              "      <td>1</td>\n",
              "      <td>2</td>\n",
              "      <td>2</td>\n",
              "      <td>2</td>\n",
              "      <td>0</td>\n",
              "    </tr>\n",
              "    <tr>\n",
              "      <th>2</th>\n",
              "      <td>0000D172-EA88-432F-8235-9FAA00D29072</td>\n",
              "      <td>2019-06-01T00:00:00.0</td>\n",
              "      <td>0</td>\n",
              "      <td>0</td>\n",
              "      <td>31</td>\n",
              "      <td>0</td>\n",
              "      <td>0</td>\n",
              "      <td>0</td>\n",
              "      <td>0</td>\n",
              "      <td>0</td>\n",
              "      <td>0</td>\n",
              "      <td>0</td>\n",
              "      <td>0.0</td>\n",
              "      <td>0.0</td>\n",
              "      <td>0.0</td>\n",
              "      <td>0.0</td>\n",
              "      <td>0.0</td>\n",
              "      <td>0.0</td>\n",
              "      <td>0.0</td>\n",
              "      <td>0.0</td>\n",
              "      <td>1.0</td>\n",
              "      <td>0.0</td>\n",
              "      <td>0.0</td>\n",
              "      <td>3650</td>\n",
              "      <td>3650</td>\n",
              "      <td>3650</td>\n",
              "      <td>3650</td>\n",
              "      <td>3650</td>\n",
              "      <td>3650</td>\n",
              "      <td>3650</td>\n",
              "      <td>3650</td>\n",
              "      <td>3650</td>\n",
              "      <td>3650</td>\n",
              "      <td>3650</td>\n",
              "      <td>52</td>\n",
              "      <td>3650</td>\n",
              "      <td>3650</td>\n",
              "      <td>0</td>\n",
              "      <td>0</td>\n",
              "      <td>0</td>\n",
              "      <td>...</td>\n",
              "      <td>1</td>\n",
              "      <td>559</td>\n",
              "      <td>355</td>\n",
              "      <td>376</td>\n",
              "      <td>51</td>\n",
              "      <td>515</td>\n",
              "      <td>492</td>\n",
              "      <td>761</td>\n",
              "      <td>555</td>\n",
              "      <td>345</td>\n",
              "      <td>0</td>\n",
              "      <td>425</td>\n",
              "      <td>469</td>\n",
              "      <td>703</td>\n",
              "      <td>527</td>\n",
              "      <td>577</td>\n",
              "      <td>488</td>\n",
              "      <td>1</td>\n",
              "      <td>1</td>\n",
              "      <td>1</td>\n",
              "      <td>1</td>\n",
              "      <td>1</td>\n",
              "      <td>1</td>\n",
              "      <td>1</td>\n",
              "      <td>1</td>\n",
              "      <td>1</td>\n",
              "      <td>46</td>\n",
              "      <td>1</td>\n",
              "      <td>1</td>\n",
              "      <td>1</td>\n",
              "      <td>1</td>\n",
              "      <td>1</td>\n",
              "      <td>1</td>\n",
              "      <td>2</td>\n",
              "      <td>2</td>\n",
              "      <td>1</td>\n",
              "      <td>2</td>\n",
              "      <td>2</td>\n",
              "      <td>2</td>\n",
              "      <td>0</td>\n",
              "    </tr>\n",
              "    <tr>\n",
              "      <th>3</th>\n",
              "      <td>0000D172-EA88-432F-8235-9FAA00D29072</td>\n",
              "      <td>2019-07-01T00:00:00.0</td>\n",
              "      <td>0</td>\n",
              "      <td>0</td>\n",
              "      <td>32</td>\n",
              "      <td>0</td>\n",
              "      <td>0</td>\n",
              "      <td>0</td>\n",
              "      <td>0</td>\n",
              "      <td>0</td>\n",
              "      <td>0</td>\n",
              "      <td>1</td>\n",
              "      <td>0.0</td>\n",
              "      <td>0.0</td>\n",
              "      <td>0.0</td>\n",
              "      <td>0.0</td>\n",
              "      <td>0.0</td>\n",
              "      <td>0.0</td>\n",
              "      <td>0.0</td>\n",
              "      <td>0.0</td>\n",
              "      <td>1.0</td>\n",
              "      <td>0.0</td>\n",
              "      <td>1.0</td>\n",
              "      <td>3650</td>\n",
              "      <td>3650</td>\n",
              "      <td>3650</td>\n",
              "      <td>3650</td>\n",
              "      <td>3650</td>\n",
              "      <td>3650</td>\n",
              "      <td>3650</td>\n",
              "      <td>3650</td>\n",
              "      <td>3650</td>\n",
              "      <td>3650</td>\n",
              "      <td>3650</td>\n",
              "      <td>83</td>\n",
              "      <td>3650</td>\n",
              "      <td>483</td>\n",
              "      <td>0</td>\n",
              "      <td>1</td>\n",
              "      <td>0</td>\n",
              "      <td>...</td>\n",
              "      <td>1</td>\n",
              "      <td>21</td>\n",
              "      <td>355</td>\n",
              "      <td>376</td>\n",
              "      <td>20</td>\n",
              "      <td>515</td>\n",
              "      <td>492</td>\n",
              "      <td>761</td>\n",
              "      <td>555</td>\n",
              "      <td>345</td>\n",
              "      <td>0</td>\n",
              "      <td>425</td>\n",
              "      <td>469</td>\n",
              "      <td>703</td>\n",
              "      <td>527</td>\n",
              "      <td>577</td>\n",
              "      <td>488</td>\n",
              "      <td>3</td>\n",
              "      <td>1</td>\n",
              "      <td>1</td>\n",
              "      <td>1</td>\n",
              "      <td>1</td>\n",
              "      <td>1</td>\n",
              "      <td>1</td>\n",
              "      <td>1</td>\n",
              "      <td>1</td>\n",
              "      <td>40</td>\n",
              "      <td>1</td>\n",
              "      <td>1</td>\n",
              "      <td>1</td>\n",
              "      <td>1</td>\n",
              "      <td>1</td>\n",
              "      <td>1</td>\n",
              "      <td>2</td>\n",
              "      <td>2</td>\n",
              "      <td>1</td>\n",
              "      <td>2</td>\n",
              "      <td>2</td>\n",
              "      <td>2</td>\n",
              "      <td>0</td>\n",
              "    </tr>\n",
              "    <tr>\n",
              "      <th>4</th>\n",
              "      <td>0000D172-EA88-432F-8235-9FAA00D29072</td>\n",
              "      <td>2019-08-01T00:00:00.0</td>\n",
              "      <td>0</td>\n",
              "      <td>0</td>\n",
              "      <td>33</td>\n",
              "      <td>0</td>\n",
              "      <td>0</td>\n",
              "      <td>0</td>\n",
              "      <td>0</td>\n",
              "      <td>0</td>\n",
              "      <td>0</td>\n",
              "      <td>2</td>\n",
              "      <td>0.0</td>\n",
              "      <td>0.0</td>\n",
              "      <td>0.0</td>\n",
              "      <td>0.0</td>\n",
              "      <td>0.0</td>\n",
              "      <td>0.0</td>\n",
              "      <td>0.0</td>\n",
              "      <td>0.0</td>\n",
              "      <td>1.0</td>\n",
              "      <td>0.0</td>\n",
              "      <td>3.0</td>\n",
              "      <td>3650</td>\n",
              "      <td>3650</td>\n",
              "      <td>3650</td>\n",
              "      <td>3650</td>\n",
              "      <td>3650</td>\n",
              "      <td>3650</td>\n",
              "      <td>3650</td>\n",
              "      <td>3650</td>\n",
              "      <td>3650</td>\n",
              "      <td>3650</td>\n",
              "      <td>3650</td>\n",
              "      <td>114</td>\n",
              "      <td>3650</td>\n",
              "      <td>8</td>\n",
              "      <td>0</td>\n",
              "      <td>2</td>\n",
              "      <td>0</td>\n",
              "      <td>...</td>\n",
              "      <td>1</td>\n",
              "      <td>52</td>\n",
              "      <td>355</td>\n",
              "      <td>376</td>\n",
              "      <td>7</td>\n",
              "      <td>515</td>\n",
              "      <td>492</td>\n",
              "      <td>761</td>\n",
              "      <td>555</td>\n",
              "      <td>345</td>\n",
              "      <td>0</td>\n",
              "      <td>425</td>\n",
              "      <td>469</td>\n",
              "      <td>703</td>\n",
              "      <td>527</td>\n",
              "      <td>577</td>\n",
              "      <td>488</td>\n",
              "      <td>1</td>\n",
              "      <td>1</td>\n",
              "      <td>1</td>\n",
              "      <td>2</td>\n",
              "      <td>1</td>\n",
              "      <td>1</td>\n",
              "      <td>1</td>\n",
              "      <td>1</td>\n",
              "      <td>1</td>\n",
              "      <td>46</td>\n",
              "      <td>1</td>\n",
              "      <td>1</td>\n",
              "      <td>1</td>\n",
              "      <td>1</td>\n",
              "      <td>1</td>\n",
              "      <td>1</td>\n",
              "      <td>2</td>\n",
              "      <td>2</td>\n",
              "      <td>1</td>\n",
              "      <td>2</td>\n",
              "      <td>2</td>\n",
              "      <td>2</td>\n",
              "      <td>0</td>\n",
              "    </tr>\n",
              "  </tbody>\n",
              "</table>\n",
              "<p>5 rows × 153 columns</p>\n",
              "</div>"
            ],
            "text/plain": [
              "                         _key_client_id  ... Incident\n",
              "0  0000D172-EA88-432F-8235-9FAA00D29072  ...        0\n",
              "1  0000D172-EA88-432F-8235-9FAA00D29072  ...        0\n",
              "2  0000D172-EA88-432F-8235-9FAA00D29072  ...        0\n",
              "3  0000D172-EA88-432F-8235-9FAA00D29072  ...        0\n",
              "4  0000D172-EA88-432F-8235-9FAA00D29072  ...        0\n",
              "\n",
              "[5 rows x 153 columns]"
            ]
          },
          "metadata": {
            "tags": []
          },
          "execution_count": 6
        }
      ]
    },
    {
      "cell_type": "markdown",
      "metadata": {
        "id": "8429g4Aroh7K",
        "colab_type": "text"
      },
      "source": [
        ""
      ]
    },
    {
      "cell_type": "markdown",
      "metadata": {
        "id": "mfjmd39toDbO",
        "colab_type": "text"
      },
      "source": [
        "### Parse 'Dates' and indexs it"
      ]
    },
    {
      "cell_type": "code",
      "metadata": {
        "id": "OI6eJ4P5bOR5",
        "colab_type": "code",
        "colab": {}
      },
      "source": [
        "result.to_csv('Dataconcate.csv')"
      ],
      "execution_count": 7,
      "outputs": []
    },
    {
      "cell_type": "code",
      "metadata": {
        "id": "_-a32wgnbOKa",
        "colab_type": "code",
        "colab": {}
      },
      "source": [
        "Dataset=pd.read_csv('Dataconcate.csv',parse_dates=['_key_occurreddate_month'],index_col=['_key_client_id','_key_occurreddate_month'])"
      ],
      "execution_count": 8,
      "outputs": []
    },
    {
      "cell_type": "code",
      "metadata": {
        "id": "ZLRU4RuNuPgd",
        "colab_type": "code",
        "colab": {
          "base_uri": "https://localhost:8080/",
          "height": 282
        },
        "outputId": "3a2375e8-d173-4e29-ee25-9513b8c14620"
      },
      "source": [
        "Dataset.drop(['Unnamed: 0','response_variable'],axis=1).head()"
      ],
      "execution_count": 9,
      "outputs": [
        {
          "output_type": "execute_result",
          "data": {
            "text/html": [
              "<div>\n",
              "<style scoped>\n",
              "    .dataframe tbody tr th:only-of-type {\n",
              "        vertical-align: middle;\n",
              "    }\n",
              "\n",
              "    .dataframe tbody tr th {\n",
              "        vertical-align: top;\n",
              "    }\n",
              "\n",
              "    .dataframe thead th {\n",
              "        text-align: right;\n",
              "    }\n",
              "</style>\n",
              "<table border=\"1\" class=\"dataframe\">\n",
              "  <thead>\n",
              "    <tr style=\"text-align: right;\">\n",
              "      <th></th>\n",
              "      <th></th>\n",
              "      <th>Total_incident_count</th>\n",
              "      <th>incident_subcatgry_unknown_piv</th>\n",
              "      <th>prgcontct_other_organisation_piv</th>\n",
              "      <th>prgcontct_lwb_worker_piv</th>\n",
              "      <th>prgcontct_both_client_and_carer_piv</th>\n",
              "      <th>prgcontct_department_piv</th>\n",
              "      <th>prgcontct_family_piv</th>\n",
              "      <th>prgcontct_carer_piv</th>\n",
              "      <th>prgcontct_client_piv</th>\n",
              "      <th>prgcontct_meeting_group_of_people_piv_sum_n_days</th>\n",
              "      <th>prgcontct_other_organisation_piv_sum_n_days</th>\n",
              "      <th>prgcontct_educational_institution_piv_sum_n_days</th>\n",
              "      <th>prgcontct_lwb_worker_piv_sum_n_days</th>\n",
              "      <th>prgcontct_both_client_and_carer_piv_sum_n_days</th>\n",
              "      <th>prgcontct_health_professional_piv_sum_n_days</th>\n",
              "      <th>prgcontct_department_piv_sum_n_days</th>\n",
              "      <th>prgcontct_other_stakeholder_piv_sum_n_days</th>\n",
              "      <th>prgcontct_family_piv_sum_n_days</th>\n",
              "      <th>prgcontct_carer_piv_sum_n_days</th>\n",
              "      <th>prgcontct_client_piv_sum_n_days</th>\n",
              "      <th>prgcontct_meeting_group_of_people_piv_days_since</th>\n",
              "      <th>prgcontct_other_organisation_piv_days_since</th>\n",
              "      <th>prgcontct_meeting_lwb_internal_only_piv_days_since</th>\n",
              "      <th>prgcontct_educational_institution_piv_days_since</th>\n",
              "      <th>prgcontct_employer_piv_days_since</th>\n",
              "      <th>prgcontct_lwb_worker_piv_days_since</th>\n",
              "      <th>prgcontct_police_piv_days_since</th>\n",
              "      <th>prgcontct_both_client_and_carer_piv_days_since</th>\n",
              "      <th>prgcontct_health_professional_piv_days_since</th>\n",
              "      <th>prgcontct_department_piv_days_since</th>\n",
              "      <th>prgcontct_other_stakeholder_piv_days_since</th>\n",
              "      <th>prgcontct_family_piv_days_since</th>\n",
              "      <th>prgcontct_carer_piv_days_since</th>\n",
              "      <th>prgcontct_client_piv_days_since</th>\n",
              "      <th>progsubjcat_information_provided_piv</th>\n",
              "      <th>progsubjcat_case_discussion_planning_piv</th>\n",
              "      <th>progsubjcat_i_sight_client_incident_system_generated_piv</th>\n",
              "      <th>progsubjcat_home_visit_piv</th>\n",
              "      <th>progsubjcat_health_and_wellbeing_piv</th>\n",
              "      <th>progsubjcat_monthly_report_piv</th>\n",
              "      <th>...</th>\n",
              "      <th>rowtype_reference_piv_avg_n_days</th>\n",
              "      <th>rowtype_client_address_addition_piv_days_since</th>\n",
              "      <th>rowtype_rp_end_piv_days_since</th>\n",
              "      <th>rowtype_rp_start_piv_days_since</th>\n",
              "      <th>rowtype_progress_note_piv_days_since</th>\n",
              "      <th>rowtype_diagnosis_piv_days_since</th>\n",
              "      <th>rowtype_medictn_start_piv_days_since</th>\n",
              "      <th>rowtype_client_plan_start_piv_days_since</th>\n",
              "      <th>rowtype_client_plan_end_piv_days_since</th>\n",
              "      <th>rowtype_keyworker_change_piv_days_since</th>\n",
              "      <th>rowtype_reference_piv_days_since</th>\n",
              "      <th>rowtype_medictn_end_piv_days_since</th>\n",
              "      <th>rowtype_plcment_end_piv_days_since</th>\n",
              "      <th>rowtype_incident_piv_days_since</th>\n",
              "      <th>rowtype_plcment_start_piv_days_since</th>\n",
              "      <th>rowtype_program_primary_service_type_start_piv_days_since</th>\n",
              "      <th>rowtype_client_alert_start_piv_days_since</th>\n",
              "      <th>rowtype_client_address_addition_piv_lag01</th>\n",
              "      <th>rowtype_rp_end_piv_lag01</th>\n",
              "      <th>rowtype_rp_start_piv_lag01</th>\n",
              "      <th>rowtype_progress_note_piv_lag01</th>\n",
              "      <th>rowtype_diagnosis_piv_lag01</th>\n",
              "      <th>rowtype_medictn_start_piv_lag01</th>\n",
              "      <th>rowtype_client_plan_start_piv_lag01</th>\n",
              "      <th>rowtype_client_plan_end_piv_lag01</th>\n",
              "      <th>rowtype_keyworker_change_piv_lag01</th>\n",
              "      <th>rowtype_reference_piv_lag01</th>\n",
              "      <th>rowtype_medictn_end_piv_lag01</th>\n",
              "      <th>rowtype_plcment_end_piv_lag01</th>\n",
              "      <th>rowtype_incident_piv_lag01</th>\n",
              "      <th>rowtype_plcment_start_piv_lag01</th>\n",
              "      <th>rowtype_program_primary_service_type_start_piv_lag01</th>\n",
              "      <th>rowtype_client_alert_start_piv_lag01</th>\n",
              "      <th>status_placement</th>\n",
              "      <th>status_client_plan</th>\n",
              "      <th>status_rp_mechanical_restraint</th>\n",
              "      <th>status_rp_restricted_access</th>\n",
              "      <th>status_rp_chemical_restraint</th>\n",
              "      <th>status_rp_other</th>\n",
              "      <th>Incident</th>\n",
              "    </tr>\n",
              "    <tr>\n",
              "      <th>_key_client_id</th>\n",
              "      <th>_key_occurreddate_month</th>\n",
              "      <th></th>\n",
              "      <th></th>\n",
              "      <th></th>\n",
              "      <th></th>\n",
              "      <th></th>\n",
              "      <th></th>\n",
              "      <th></th>\n",
              "      <th></th>\n",
              "      <th></th>\n",
              "      <th></th>\n",
              "      <th></th>\n",
              "      <th></th>\n",
              "      <th></th>\n",
              "      <th></th>\n",
              "      <th></th>\n",
              "      <th></th>\n",
              "      <th></th>\n",
              "      <th></th>\n",
              "      <th></th>\n",
              "      <th></th>\n",
              "      <th></th>\n",
              "      <th></th>\n",
              "      <th></th>\n",
              "      <th></th>\n",
              "      <th></th>\n",
              "      <th></th>\n",
              "      <th></th>\n",
              "      <th></th>\n",
              "      <th></th>\n",
              "      <th></th>\n",
              "      <th></th>\n",
              "      <th></th>\n",
              "      <th></th>\n",
              "      <th></th>\n",
              "      <th></th>\n",
              "      <th></th>\n",
              "      <th></th>\n",
              "      <th></th>\n",
              "      <th></th>\n",
              "      <th></th>\n",
              "      <th></th>\n",
              "      <th></th>\n",
              "      <th></th>\n",
              "      <th></th>\n",
              "      <th></th>\n",
              "      <th></th>\n",
              "      <th></th>\n",
              "      <th></th>\n",
              "      <th></th>\n",
              "      <th></th>\n",
              "      <th></th>\n",
              "      <th></th>\n",
              "      <th></th>\n",
              "      <th></th>\n",
              "      <th></th>\n",
              "      <th></th>\n",
              "      <th></th>\n",
              "      <th></th>\n",
              "      <th></th>\n",
              "      <th></th>\n",
              "      <th></th>\n",
              "      <th></th>\n",
              "      <th></th>\n",
              "      <th></th>\n",
              "      <th></th>\n",
              "      <th></th>\n",
              "      <th></th>\n",
              "      <th></th>\n",
              "      <th></th>\n",
              "      <th></th>\n",
              "      <th></th>\n",
              "      <th></th>\n",
              "      <th></th>\n",
              "      <th></th>\n",
              "      <th></th>\n",
              "      <th></th>\n",
              "      <th></th>\n",
              "      <th></th>\n",
              "      <th></th>\n",
              "      <th></th>\n",
              "      <th></th>\n",
              "    </tr>\n",
              "  </thead>\n",
              "  <tbody>\n",
              "    <tr>\n",
              "      <th rowspan=\"5\" valign=\"top\">0000D172-EA88-432F-8235-9FAA00D29072</th>\n",
              "      <th>2019-04-01</th>\n",
              "      <td>0</td>\n",
              "      <td>29</td>\n",
              "      <td>0</td>\n",
              "      <td>0</td>\n",
              "      <td>0</td>\n",
              "      <td>0</td>\n",
              "      <td>1</td>\n",
              "      <td>0</td>\n",
              "      <td>0</td>\n",
              "      <td>0.0</td>\n",
              "      <td>0.0</td>\n",
              "      <td>0.0</td>\n",
              "      <td>0.0</td>\n",
              "      <td>0.0</td>\n",
              "      <td>0.0</td>\n",
              "      <td>0.0</td>\n",
              "      <td>0.0</td>\n",
              "      <td>1.0</td>\n",
              "      <td>0.0</td>\n",
              "      <td>0.0</td>\n",
              "      <td>3650</td>\n",
              "      <td>3650</td>\n",
              "      <td>3650</td>\n",
              "      <td>3650</td>\n",
              "      <td>3650</td>\n",
              "      <td>3650</td>\n",
              "      <td>3650</td>\n",
              "      <td>3650</td>\n",
              "      <td>3650</td>\n",
              "      <td>3650</td>\n",
              "      <td>3650</td>\n",
              "      <td>2868</td>\n",
              "      <td>3650</td>\n",
              "      <td>3650</td>\n",
              "      <td>0</td>\n",
              "      <td>1</td>\n",
              "      <td>0</td>\n",
              "      <td>0</td>\n",
              "      <td>0</td>\n",
              "      <td>0</td>\n",
              "      <td>...</td>\n",
              "      <td>1</td>\n",
              "      <td>603</td>\n",
              "      <td>355</td>\n",
              "      <td>376</td>\n",
              "      <td>890</td>\n",
              "      <td>515</td>\n",
              "      <td>492</td>\n",
              "      <td>761</td>\n",
              "      <td>555</td>\n",
              "      <td>345</td>\n",
              "      <td>2</td>\n",
              "      <td>425</td>\n",
              "      <td>469</td>\n",
              "      <td>703</td>\n",
              "      <td>527</td>\n",
              "      <td>577</td>\n",
              "      <td>488</td>\n",
              "      <td>0</td>\n",
              "      <td>0</td>\n",
              "      <td>0</td>\n",
              "      <td>0</td>\n",
              "      <td>0</td>\n",
              "      <td>0</td>\n",
              "      <td>0</td>\n",
              "      <td>0</td>\n",
              "      <td>0</td>\n",
              "      <td>0</td>\n",
              "      <td>0</td>\n",
              "      <td>0</td>\n",
              "      <td>0</td>\n",
              "      <td>0</td>\n",
              "      <td>0</td>\n",
              "      <td>0</td>\n",
              "      <td>2</td>\n",
              "      <td>2</td>\n",
              "      <td>1</td>\n",
              "      <td>2</td>\n",
              "      <td>2</td>\n",
              "      <td>2</td>\n",
              "      <td>0</td>\n",
              "    </tr>\n",
              "    <tr>\n",
              "      <th>2019-05-01</th>\n",
              "      <td>0</td>\n",
              "      <td>31</td>\n",
              "      <td>0</td>\n",
              "      <td>0</td>\n",
              "      <td>0</td>\n",
              "      <td>0</td>\n",
              "      <td>0</td>\n",
              "      <td>0</td>\n",
              "      <td>0</td>\n",
              "      <td>0.0</td>\n",
              "      <td>0.0</td>\n",
              "      <td>0.0</td>\n",
              "      <td>0.0</td>\n",
              "      <td>0.0</td>\n",
              "      <td>0.0</td>\n",
              "      <td>0.0</td>\n",
              "      <td>0.0</td>\n",
              "      <td>1.0</td>\n",
              "      <td>0.0</td>\n",
              "      <td>0.0</td>\n",
              "      <td>3650</td>\n",
              "      <td>3650</td>\n",
              "      <td>3650</td>\n",
              "      <td>3650</td>\n",
              "      <td>3650</td>\n",
              "      <td>3650</td>\n",
              "      <td>3650</td>\n",
              "      <td>3650</td>\n",
              "      <td>3650</td>\n",
              "      <td>3650</td>\n",
              "      <td>3650</td>\n",
              "      <td>22</td>\n",
              "      <td>3650</td>\n",
              "      <td>3650</td>\n",
              "      <td>0</td>\n",
              "      <td>0</td>\n",
              "      <td>0</td>\n",
              "      <td>0</td>\n",
              "      <td>0</td>\n",
              "      <td>0</td>\n",
              "      <td>...</td>\n",
              "      <td>1</td>\n",
              "      <td>603</td>\n",
              "      <td>355</td>\n",
              "      <td>376</td>\n",
              "      <td>21</td>\n",
              "      <td>515</td>\n",
              "      <td>492</td>\n",
              "      <td>761</td>\n",
              "      <td>555</td>\n",
              "      <td>345</td>\n",
              "      <td>0</td>\n",
              "      <td>425</td>\n",
              "      <td>469</td>\n",
              "      <td>703</td>\n",
              "      <td>527</td>\n",
              "      <td>577</td>\n",
              "      <td>488</td>\n",
              "      <td>1</td>\n",
              "      <td>1</td>\n",
              "      <td>1</td>\n",
              "      <td>2</td>\n",
              "      <td>1</td>\n",
              "      <td>1</td>\n",
              "      <td>1</td>\n",
              "      <td>1</td>\n",
              "      <td>1</td>\n",
              "      <td>38</td>\n",
              "      <td>1</td>\n",
              "      <td>1</td>\n",
              "      <td>1</td>\n",
              "      <td>1</td>\n",
              "      <td>1</td>\n",
              "      <td>1</td>\n",
              "      <td>2</td>\n",
              "      <td>2</td>\n",
              "      <td>1</td>\n",
              "      <td>2</td>\n",
              "      <td>2</td>\n",
              "      <td>2</td>\n",
              "      <td>0</td>\n",
              "    </tr>\n",
              "    <tr>\n",
              "      <th>2019-06-01</th>\n",
              "      <td>0</td>\n",
              "      <td>31</td>\n",
              "      <td>0</td>\n",
              "      <td>0</td>\n",
              "      <td>0</td>\n",
              "      <td>0</td>\n",
              "      <td>0</td>\n",
              "      <td>0</td>\n",
              "      <td>0</td>\n",
              "      <td>0.0</td>\n",
              "      <td>0.0</td>\n",
              "      <td>0.0</td>\n",
              "      <td>0.0</td>\n",
              "      <td>0.0</td>\n",
              "      <td>0.0</td>\n",
              "      <td>0.0</td>\n",
              "      <td>0.0</td>\n",
              "      <td>1.0</td>\n",
              "      <td>0.0</td>\n",
              "      <td>0.0</td>\n",
              "      <td>3650</td>\n",
              "      <td>3650</td>\n",
              "      <td>3650</td>\n",
              "      <td>3650</td>\n",
              "      <td>3650</td>\n",
              "      <td>3650</td>\n",
              "      <td>3650</td>\n",
              "      <td>3650</td>\n",
              "      <td>3650</td>\n",
              "      <td>3650</td>\n",
              "      <td>3650</td>\n",
              "      <td>52</td>\n",
              "      <td>3650</td>\n",
              "      <td>3650</td>\n",
              "      <td>0</td>\n",
              "      <td>0</td>\n",
              "      <td>0</td>\n",
              "      <td>0</td>\n",
              "      <td>0</td>\n",
              "      <td>0</td>\n",
              "      <td>...</td>\n",
              "      <td>1</td>\n",
              "      <td>559</td>\n",
              "      <td>355</td>\n",
              "      <td>376</td>\n",
              "      <td>51</td>\n",
              "      <td>515</td>\n",
              "      <td>492</td>\n",
              "      <td>761</td>\n",
              "      <td>555</td>\n",
              "      <td>345</td>\n",
              "      <td>0</td>\n",
              "      <td>425</td>\n",
              "      <td>469</td>\n",
              "      <td>703</td>\n",
              "      <td>527</td>\n",
              "      <td>577</td>\n",
              "      <td>488</td>\n",
              "      <td>1</td>\n",
              "      <td>1</td>\n",
              "      <td>1</td>\n",
              "      <td>1</td>\n",
              "      <td>1</td>\n",
              "      <td>1</td>\n",
              "      <td>1</td>\n",
              "      <td>1</td>\n",
              "      <td>1</td>\n",
              "      <td>46</td>\n",
              "      <td>1</td>\n",
              "      <td>1</td>\n",
              "      <td>1</td>\n",
              "      <td>1</td>\n",
              "      <td>1</td>\n",
              "      <td>1</td>\n",
              "      <td>2</td>\n",
              "      <td>2</td>\n",
              "      <td>1</td>\n",
              "      <td>2</td>\n",
              "      <td>2</td>\n",
              "      <td>2</td>\n",
              "      <td>0</td>\n",
              "    </tr>\n",
              "    <tr>\n",
              "      <th>2019-07-01</th>\n",
              "      <td>0</td>\n",
              "      <td>32</td>\n",
              "      <td>0</td>\n",
              "      <td>0</td>\n",
              "      <td>0</td>\n",
              "      <td>0</td>\n",
              "      <td>0</td>\n",
              "      <td>0</td>\n",
              "      <td>1</td>\n",
              "      <td>0.0</td>\n",
              "      <td>0.0</td>\n",
              "      <td>0.0</td>\n",
              "      <td>0.0</td>\n",
              "      <td>0.0</td>\n",
              "      <td>0.0</td>\n",
              "      <td>0.0</td>\n",
              "      <td>0.0</td>\n",
              "      <td>1.0</td>\n",
              "      <td>0.0</td>\n",
              "      <td>1.0</td>\n",
              "      <td>3650</td>\n",
              "      <td>3650</td>\n",
              "      <td>3650</td>\n",
              "      <td>3650</td>\n",
              "      <td>3650</td>\n",
              "      <td>3650</td>\n",
              "      <td>3650</td>\n",
              "      <td>3650</td>\n",
              "      <td>3650</td>\n",
              "      <td>3650</td>\n",
              "      <td>3650</td>\n",
              "      <td>83</td>\n",
              "      <td>3650</td>\n",
              "      <td>483</td>\n",
              "      <td>0</td>\n",
              "      <td>1</td>\n",
              "      <td>0</td>\n",
              "      <td>0</td>\n",
              "      <td>0</td>\n",
              "      <td>0</td>\n",
              "      <td>...</td>\n",
              "      <td>1</td>\n",
              "      <td>21</td>\n",
              "      <td>355</td>\n",
              "      <td>376</td>\n",
              "      <td>20</td>\n",
              "      <td>515</td>\n",
              "      <td>492</td>\n",
              "      <td>761</td>\n",
              "      <td>555</td>\n",
              "      <td>345</td>\n",
              "      <td>0</td>\n",
              "      <td>425</td>\n",
              "      <td>469</td>\n",
              "      <td>703</td>\n",
              "      <td>527</td>\n",
              "      <td>577</td>\n",
              "      <td>488</td>\n",
              "      <td>3</td>\n",
              "      <td>1</td>\n",
              "      <td>1</td>\n",
              "      <td>1</td>\n",
              "      <td>1</td>\n",
              "      <td>1</td>\n",
              "      <td>1</td>\n",
              "      <td>1</td>\n",
              "      <td>1</td>\n",
              "      <td>40</td>\n",
              "      <td>1</td>\n",
              "      <td>1</td>\n",
              "      <td>1</td>\n",
              "      <td>1</td>\n",
              "      <td>1</td>\n",
              "      <td>1</td>\n",
              "      <td>2</td>\n",
              "      <td>2</td>\n",
              "      <td>1</td>\n",
              "      <td>2</td>\n",
              "      <td>2</td>\n",
              "      <td>2</td>\n",
              "      <td>0</td>\n",
              "    </tr>\n",
              "    <tr>\n",
              "      <th>2019-08-01</th>\n",
              "      <td>0</td>\n",
              "      <td>33</td>\n",
              "      <td>0</td>\n",
              "      <td>0</td>\n",
              "      <td>0</td>\n",
              "      <td>0</td>\n",
              "      <td>0</td>\n",
              "      <td>0</td>\n",
              "      <td>2</td>\n",
              "      <td>0.0</td>\n",
              "      <td>0.0</td>\n",
              "      <td>0.0</td>\n",
              "      <td>0.0</td>\n",
              "      <td>0.0</td>\n",
              "      <td>0.0</td>\n",
              "      <td>0.0</td>\n",
              "      <td>0.0</td>\n",
              "      <td>1.0</td>\n",
              "      <td>0.0</td>\n",
              "      <td>3.0</td>\n",
              "      <td>3650</td>\n",
              "      <td>3650</td>\n",
              "      <td>3650</td>\n",
              "      <td>3650</td>\n",
              "      <td>3650</td>\n",
              "      <td>3650</td>\n",
              "      <td>3650</td>\n",
              "      <td>3650</td>\n",
              "      <td>3650</td>\n",
              "      <td>3650</td>\n",
              "      <td>3650</td>\n",
              "      <td>114</td>\n",
              "      <td>3650</td>\n",
              "      <td>8</td>\n",
              "      <td>0</td>\n",
              "      <td>2</td>\n",
              "      <td>0</td>\n",
              "      <td>0</td>\n",
              "      <td>0</td>\n",
              "      <td>0</td>\n",
              "      <td>...</td>\n",
              "      <td>1</td>\n",
              "      <td>52</td>\n",
              "      <td>355</td>\n",
              "      <td>376</td>\n",
              "      <td>7</td>\n",
              "      <td>515</td>\n",
              "      <td>492</td>\n",
              "      <td>761</td>\n",
              "      <td>555</td>\n",
              "      <td>345</td>\n",
              "      <td>0</td>\n",
              "      <td>425</td>\n",
              "      <td>469</td>\n",
              "      <td>703</td>\n",
              "      <td>527</td>\n",
              "      <td>577</td>\n",
              "      <td>488</td>\n",
              "      <td>1</td>\n",
              "      <td>1</td>\n",
              "      <td>1</td>\n",
              "      <td>2</td>\n",
              "      <td>1</td>\n",
              "      <td>1</td>\n",
              "      <td>1</td>\n",
              "      <td>1</td>\n",
              "      <td>1</td>\n",
              "      <td>46</td>\n",
              "      <td>1</td>\n",
              "      <td>1</td>\n",
              "      <td>1</td>\n",
              "      <td>1</td>\n",
              "      <td>1</td>\n",
              "      <td>1</td>\n",
              "      <td>2</td>\n",
              "      <td>2</td>\n",
              "      <td>1</td>\n",
              "      <td>2</td>\n",
              "      <td>2</td>\n",
              "      <td>2</td>\n",
              "      <td>0</td>\n",
              "    </tr>\n",
              "  </tbody>\n",
              "</table>\n",
              "<p>5 rows × 150 columns</p>\n",
              "</div>"
            ],
            "text/plain": [
              "                                                              Total_incident_count  ...  Incident\n",
              "_key_client_id                       _key_occurreddate_month                        ...          \n",
              "0000D172-EA88-432F-8235-9FAA00D29072 2019-04-01                                  0  ...         0\n",
              "                                     2019-05-01                                  0  ...         0\n",
              "                                     2019-06-01                                  0  ...         0\n",
              "                                     2019-07-01                                  0  ...         0\n",
              "                                     2019-08-01                                  0  ...         0\n",
              "\n",
              "[5 rows x 150 columns]"
            ]
          },
          "metadata": {
            "tags": []
          },
          "execution_count": 9
        }
      ]
    },
    {
      "cell_type": "code",
      "metadata": {
        "id": "1IA3ZX1Q3J0j",
        "colab_type": "code",
        "colab": {}
      },
      "source": [
        "client_id=list(Dataset.index.get_level_values(0)) # the value of '_key_client_id' indexe"
      ],
      "execution_count": 10,
      "outputs": []
    },
    {
      "cell_type": "markdown",
      "metadata": {
        "id": "4OuahIt2UWF2",
        "colab_type": "text"
      },
      "source": [
        "### Remove the Useless records"
      ]
    },
    {
      "cell_type": "code",
      "metadata": {
        "id": "ZvzX1ELmMAfw",
        "colab_type": "code",
        "colab": {}
      },
      "source": [
        "from collections import Counter\n",
        "occurrences = Counter(client_id)"
      ],
      "execution_count": 11,
      "outputs": []
    },
    {
      "cell_type": "code",
      "metadata": {
        "id": "NZxg9_39N7FR",
        "colab_type": "code",
        "colab": {}
      },
      "source": [
        "used_id=[]\n",
        "usedless_id=[]\n",
        "for key, value in occurrences.items():\n",
        "  if value==12:  # number can be changed\n",
        "    used_id.append(key)\n",
        "  else:\n",
        "    usedless_id.append(key)"
      ],
      "execution_count": 12,
      "outputs": []
    },
    {
      "cell_type": "code",
      "metadata": {
        "id": "14bWZgMQP3Jq",
        "colab_type": "code",
        "colab": {
          "base_uri": "https://localhost:8080/",
          "height": 52
        },
        "outputId": "322272a5-2568-4624-d81b-8024432e2d96"
      },
      "source": [
        "print(f'Useful client:  {len(used_id):d}\\nUseless client: {len(usedless_id):d}')"
      ],
      "execution_count": 13,
      "outputs": [
        {
          "output_type": "stream",
          "text": [
            "Useful client:  7380\n",
            "Useless client: 7007\n"
          ],
          "name": "stdout"
        }
      ]
    },
    {
      "cell_type": "code",
      "metadata": {
        "id": "FIqnQ5eWQ8Oy",
        "colab_type": "code",
        "colab": {
          "base_uri": "https://localhost:8080/",
          "height": 35
        },
        "outputId": "7ccdcebb-678c-4c41-e194-1afd7628e7b1"
      },
      "source": [
        "# remove the rows that the record of client is less than 12 month \n",
        "Dataset=Dataset.drop(usedless_id,level=0) \n",
        "Dataset.shape"
      ],
      "execution_count": 14,
      "outputs": [
        {
          "output_type": "execute_result",
          "data": {
            "text/plain": [
              "(88560, 152)"
            ]
          },
          "metadata": {
            "tags": []
          },
          "execution_count": 14
        }
      ]
    },
    {
      "cell_type": "code",
      "metadata": {
        "id": "d38tzpQ6UBkf",
        "colab_type": "code",
        "colab": {}
      },
      "source": [
        "Dataset.drop(['Unnamed: 0','response_variable'],axis=1,inplace=True)"
      ],
      "execution_count": 15,
      "outputs": []
    },
    {
      "cell_type": "markdown",
      "metadata": {
        "id": "obJNduOArMIa",
        "colab_type": "text"
      },
      "source": [
        "## Perparing Dateset for Modelling"
      ]
    },
    {
      "cell_type": "markdown",
      "metadata": {
        "id": "l6T0_1bqg3J-",
        "colab_type": "text"
      },
      "source": [
        "### Spliting to Train and Test Set"
      ]
    },
    {
      "cell_type": "code",
      "metadata": {
        "id": "XDdZl8hahLXe",
        "colab_type": "code",
        "colab": {
          "base_uri": "https://localhost:8080/",
          "height": 35
        },
        "outputId": "330f1c57-6035-4f58-8b0f-fa02e16a8a1a"
      },
      "source": [
        "split=int(0.9*len(used_id))\n",
        "train_index=used_id[:split] # the clients who will in trainset\n",
        "test_index=used_id[split:] # the clients who will in testset\n",
        "\n",
        "# Train dataset\n",
        "train=Dataset.loc[train_index]\n",
        "train_x = train.drop('Incident',axis=1)\n",
        "train_y = train.Incident\n",
        "\n",
        "# Test Dataset\n",
        "test=Dataset.loc[test_index]\n",
        "test_x = test.drop('Incident',axis=1)\n",
        "test_y = test.Incident\n",
        "\n",
        "print(train.shape,test.shape)"
      ],
      "execution_count": 16,
      "outputs": [
        {
          "output_type": "stream",
          "text": [
            "(79704, 150) (8856, 150)\n"
          ],
          "name": "stdout"
        }
      ]
    },
    {
      "cell_type": "markdown",
      "metadata": {
        "id": "gVBhIWD6oqke",
        "colab_type": "text"
      },
      "source": [
        "### Normalize the Data"
      ]
    },
    {
      "cell_type": "code",
      "metadata": {
        "id": "xjwqksZ3oJVi",
        "colab_type": "code",
        "colab": {}
      },
      "source": [
        "from sklearn.preprocessing import MinMaxScaler\n",
        "scaler=MinMaxScaler()\n",
        "\n",
        "train_x = scaler.fit_transform(train_x)\n",
        "\n",
        "test_x = scaler.transform(test_x)"
      ],
      "execution_count": 17,
      "outputs": []
    },
    {
      "cell_type": "code",
      "metadata": {
        "id": "skUhA7q9u16c",
        "colab_type": "code",
        "colab": {}
      },
      "source": [
        ""
      ],
      "execution_count": 17,
      "outputs": []
    },
    {
      "cell_type": "markdown",
      "metadata": {
        "id": "4aim_l66xgSI",
        "colab_type": "text"
      },
      "source": [
        "###Serializing the Dataset"
      ]
    },
    {
      "cell_type": "code",
      "metadata": {
        "id": "pOhbC83Kq9QL",
        "colab_type": "code",
        "colab": {}
      },
      "source": [
        "# 4D output\n",
        "import numpy as np\n",
        "\n",
        "def create_dataset(X, y, time_steps,window, number):\n",
        "  xs, ys,channel = [],[],0\n",
        "  while channel < number: # ensure all client data change to time series type\n",
        "    xs_sub, ys_sub =[],[]\n",
        "    for i in range(window - time_steps):\n",
        "      shifft= window * channel\n",
        "      v = X[i+shifft:(i + shifft + time_steps)]\n",
        "      xs_sub.append(v)\n",
        "      ys_sub.append(y[i + shifft + time_steps])\n",
        "\n",
        "    channel+=1\n",
        "    xs.append(xs_sub)\n",
        "    ys.append(ys_sub)\n",
        "\n",
        "  return np.array(xs),np.array(ys)"
      ],
      "execution_count": 41,
      "outputs": []
    },
    {
      "cell_type": "code",
      "metadata": {
        "id": "aVd8rerR10XJ",
        "colab_type": "code",
        "colab": {}
      },
      "source": [
        "'''\n",
        "# 3D output\n",
        "import numpy as np\n",
        "\n",
        "def create_dataset(X, y, time_steps,window, number):\n",
        "  xs, ys,channel = [],[],0\n",
        "  while channel < number: # ensure all client data change to time series type\n",
        "    \n",
        "    for i in range(window - time_steps):\n",
        "      shifft= window * channel\n",
        "      v = X[i+shifft:(i + shifft + time_steps)]\n",
        "      xs.append(v)\n",
        "      ys.append(y[i + shifft + time_steps])\n",
        "\n",
        "    channel+=1\n",
        "\n",
        "  return np.array(xs),np.array(ys)\n",
        "'''"
      ],
      "execution_count": 19,
      "outputs": []
    },
    {
      "cell_type": "code",
      "metadata": {
        "id": "ZJ9H29Sdq9QO",
        "colab_type": "code",
        "colab": {}
      },
      "source": [
        "TIME_STEPS = 4\n",
        "WINDOW = 12\n",
        "NUM_TRAIN = len(train_index)\n",
        "NUM_TEST = len(test_index)\n",
        "\n",
        "X_train, y_train = create_dataset(train_x,train_y, TIME_STEPS, WINDOW, NUM_TRAIN)\n",
        "X_test, y_test = create_dataset(test_x, test_y, TIME_STEPS, WINDOW,NUM_TEST)"
      ],
      "execution_count": 42,
      "outputs": []
    },
    {
      "cell_type": "code",
      "metadata": {
        "id": "u_1HVVXRq9QQ",
        "colab_type": "code",
        "colab": {
          "base_uri": "https://localhost:8080/",
          "height": 35
        },
        "outputId": "20f153d1-2a21-4c10-b684-207f029d811f"
      },
      "source": [
        "# [n_samples, (n_sub_sequence),TIME_STEPS, n_features], [n_samples]\n",
        "print(X_train.shape, y_train.shape)"
      ],
      "execution_count": 43,
      "outputs": [
        {
          "output_type": "stream",
          "text": [
            "(6642, 8, 4, 149) (6642, 8)\n"
          ],
          "name": "stdout"
        }
      ]
    },
    {
      "cell_type": "markdown",
      "metadata": {
        "id": "nonWCISJrpa7",
        "colab_type": "text"
      },
      "source": [
        "## LSTM AutoEncoder"
      ]
    },
    {
      "cell_type": "code",
      "metadata": {
        "id": "rx4xhtWAkXXW",
        "colab_type": "code",
        "colab": {}
      },
      "source": [
        "# https://machinelearningmastery.com/how-to-develop-lstm-models-for-time-series-forecasting/\n",
        "''' 4D input [n_samples, n_sub_sequence,TIME_STEPS, n_features]'''\n",
        "def ConvLSMT_autoencoder(X):\n",
        "  model = Sequential()\n",
        "  model.add(layers.TimeDistributed(layers.Conv1D(filters=16, kernel_size=1, activation='relu'), input_shape=(None, X.shape[2], X.shape[3])))\n",
        "  model.add(layers.TimeDistributed(layers.MaxPooling1D(pool_size=2)))\n",
        "  model.add(layers.TimeDistributed(layers.Flatten()))\n",
        "  model.add(layers.LSTM(32, activation='relu'))\n",
        "  model.add(layers.RepeatVector(X.shape[2]))\n",
        "  model.add(layers.LSTM(4, activation='relu', return_sequences=True))\n",
        "  model.add(layers.Flatten())\n",
        "  model.add(layers.Dense(8,activation='sigmoid'))\n",
        "  return model"
      ],
      "execution_count": 39,
      "outputs": []
    },
    {
      "cell_type": "code",
      "metadata": {
        "id": "8SI64qdViJ4s",
        "colab_type": "code",
        "colab": {}
      },
      "source": [
        "\n",
        "'''3D input [n_samples, TIME_STEPS, n_features]\n",
        "def LSTM_autoencoder(X):\n",
        "    inputs = keras.Input(shape=(X.shape[1], X.shape[2]))\n",
        "    L1 = layers.LSTM(16, activation='relu', return_sequences=True)(inputs)\n",
        "    L2 = layers.LSTM(4, activation='relu', return_sequences=False)(L1)\n",
        "    L4 = layers.RepeatVector(X.shape[1])(L2)\n",
        "    L5 = layers.LSTM(4, activation='relu', return_sequences=True)(L4)\n",
        "    L6 = layers.LSTM(16, activation='relu', return_sequences=True)(L5)\n",
        "    output = layers.Dense(1,activation='sigmoid')(L6)    \n",
        "    model = keras.Model(inputs=inputs, outputs=output)\n",
        "    return model\n",
        "'''"
      ],
      "execution_count": 23,
      "outputs": []
    },
    {
      "cell_type": "code",
      "metadata": {
        "id": "OluqSOE2fRNx",
        "colab_type": "code",
        "colab": {
          "base_uri": "https://localhost:8080/",
          "height": 433
        },
        "outputId": "71b55620-6f68-4cf6-89d5-0332a722af8e"
      },
      "source": [
        "model = ConvLSMT_autoencoder(X_train)\n",
        "#model= LSTM_autoencoder(X_train)\n",
        "model.summary()"
      ],
      "execution_count": 44,
      "outputs": [
        {
          "output_type": "stream",
          "text": [
            "Model: \"sequential_2\"\n",
            "_________________________________________________________________\n",
            "Layer (type)                 Output Shape              Param #   \n",
            "=================================================================\n",
            "time_distributed (TimeDistri (None, None, 4, 16)       2400      \n",
            "_________________________________________________________________\n",
            "time_distributed_1 (TimeDist (None, None, 2, 16)       0         \n",
            "_________________________________________________________________\n",
            "time_distributed_2 (TimeDist (None, None, 32)          0         \n",
            "_________________________________________________________________\n",
            "lstm_8 (LSTM)                (None, 32)                8320      \n",
            "_________________________________________________________________\n",
            "repeat_vector_2 (RepeatVecto (None, 4, 32)             0         \n",
            "_________________________________________________________________\n",
            "lstm_9 (LSTM)                (None, 4, 4)              592       \n",
            "_________________________________________________________________\n",
            "flatten_1 (Flatten)          (None, 16)                0         \n",
            "_________________________________________________________________\n",
            "dense_2 (Dense)              (None, 8)                 136       \n",
            "=================================================================\n",
            "Total params: 11,448\n",
            "Trainable params: 11,448\n",
            "Non-trainable params: 0\n",
            "_________________________________________________________________\n"
          ],
          "name": "stdout"
        }
      ]
    },
    {
      "cell_type": "code",
      "metadata": {
        "id": "fVvbWAb4dXUu",
        "colab_type": "code",
        "colab": {}
      },
      "source": [
        "model.compile(loss=keras.losses.BinaryCrossentropy(from_logits=False),\n",
        "              optimizer=keras.optimizers.Adam(1e-4),\n",
        "              metrics=['accuracy'])"
      ],
      "execution_count": 45,
      "outputs": []
    },
    {
      "cell_type": "code",
      "metadata": {
        "id": "PgSPpteoeOLD",
        "colab_type": "code",
        "colab": {}
      },
      "source": [
        "history = model.fit(\n",
        "    X_train,y_train,\n",
        "    epochs=150,\n",
        "    batch_size=48,\n",
        "    validation_split=0.1,shuffle=False)"
      ],
      "execution_count": null,
      "outputs": []
    },
    {
      "cell_type": "code",
      "metadata": {
        "id": "euEvkju2BpWA",
        "colab_type": "code",
        "colab": {
          "base_uri": "https://localhost:8080/",
          "height": 279
        },
        "outputId": "c5e3f185-5b3d-4a28-b701-6d181f63abd3"
      },
      "source": [
        "import matplotlib.pyplot as plt\n",
        "plt.plot(history.epoch, history.history['loss'], label='Train')\n",
        "plt.plot(history.epoch, history.history['val_loss'], label='Test')\n",
        "plt.ylabel('Loss')\n",
        "plt.xlabel('Epoch')\n",
        "plt.legend()\n",
        "plt.show()"
      ],
      "execution_count": 143,
      "outputs": [
        {
          "output_type": "display_data",
          "data": {
            "image/png": "[encoded data removed]",
            "text/plain": [
              "<Figure size 432x288 with 1 Axes>"
            ]
          },
          "metadata": {
            "tags": [],
            "needs_background": "light"
          }
        }
      ]
    },
    {
      "cell_type": "markdown",
      "metadata": {
        "id": "w_3Ll_9mJlxS",
        "colab_type": "text"
      },
      "source": [
        "## Find the threshold for dividing positive samples and neigative samples"
      ]
    },
    {
      "cell_type": "code",
      "metadata": {
        "id": "uoHUjMB_CY5j",
        "colab_type": "code",
        "colab": {
          "base_uri": "https://localhost:8080/",
          "height": 35
        },
        "outputId": "6005dfe7-dd86-43d0-d764-a2a8d8ee99a2"
      },
      "source": [
        "predict = model.predict(X_test)\n",
        "predict.shape"
      ],
      "execution_count": 145,
      "outputs": [
        {
          "output_type": "execute_result",
          "data": {
            "text/plain": [
              "(738, 8)"
            ]
          },
          "metadata": {
            "tags": []
          },
          "execution_count": 145
        }
      ]
    },
    {
      "cell_type": "code",
      "metadata": {
        "id": "ktsucnyTWBjM",
        "colab_type": "code",
        "colab": {
          "base_uri": "https://localhost:8080/",
          "height": 69
        },
        "outputId": "794dd2a8-f8a6-4ba6-951b-7fec074a7c6f"
      },
      "source": [
        "predict[1]"
      ],
      "execution_count": 146,
      "outputs": [
        {
          "output_type": "execute_result",
          "data": {
            "text/plain": [
              "array([3.0160449e-12, 5.0414354e-08, 2.5601383e-12, 1.7278914e-11,\n",
              "       1.8369944e-07, 5.3930305e-09, 2.3618042e-03, 2.2391498e-02],\n",
              "      dtype=float32)"
            ]
          },
          "metadata": {
            "tags": []
          },
          "execution_count": 146
        }
      ]
    },
    {
      "cell_type": "code",
      "metadata": {
        "id": "HT6wHCMMGCyI",
        "colab_type": "code",
        "colab": {
          "base_uri": "https://localhost:8080/",
          "height": 69
        },
        "outputId": "89e0484d-e29e-4f7e-b50f-24e10735647e"
      },
      "source": [
        "predict[0]"
      ],
      "execution_count": 147,
      "outputs": [
        {
          "output_type": "execute_result",
          "data": {
            "text/plain": [
              "array([4.3665634e-11, 3.7971497e-09, 1.9269036e-15, 8.9610203e-12,\n",
              "       2.2153342e-06, 2.8727476e-12, 2.6892003e-05, 1.2616992e-02],\n",
              "      dtype=float32)"
            ]
          },
          "metadata": {
            "tags": []
          },
          "execution_count": 147
        }
      ]
    },
    {
      "cell_type": "code",
      "metadata": {
        "id": "OfhBF8XuGPg_",
        "colab_type": "code",
        "colab": {}
      },
      "source": [
        "month=['May','Jun','Jul','Aug','Sep','Oct','Nov','Dec']\n",
        "Client=used_id[-y_test.shape[0]:]\n",
        "\n",
        "preidct_df = pd.DataFrame(predict,columns=month,index=Client,)\n",
        "True_df=pd.DataFrame(y_test,columns=month,index=Client)"
      ],
      "execution_count": 148,
      "outputs": []
    },
    {
      "cell_type": "code",
      "metadata": {
        "id": "AoavcnEJIsjx",
        "colab_type": "code",
        "colab": {
          "base_uri": "https://localhost:8080/",
          "height": 294
        },
        "outputId": "15b3e07b-0e2a-4810-a4c0-a7d41e11a63d"
      },
      "source": [
        "preidct_df.describe()"
      ],
      "execution_count": 149,
      "outputs": [
        {
          "output_type": "execute_result",
          "data": {
            "text/html": [
              "<div>\n",
              "<style scoped>\n",
              "    .dataframe tbody tr th:only-of-type {\n",
              "        vertical-align: middle;\n",
              "    }\n",
              "\n",
              "    .dataframe tbody tr th {\n",
              "        vertical-align: top;\n",
              "    }\n",
              "\n",
              "    .dataframe thead th {\n",
              "        text-align: right;\n",
              "    }\n",
              "</style>\n",
              "<table border=\"1\" class=\"dataframe\">\n",
              "  <thead>\n",
              "    <tr style=\"text-align: right;\">\n",
              "      <th></th>\n",
              "      <th>May</th>\n",
              "      <th>Jun</th>\n",
              "      <th>Jul</th>\n",
              "      <th>Aug</th>\n",
              "      <th>Sep</th>\n",
              "      <th>Oct</th>\n",
              "      <th>Nov</th>\n",
              "      <th>Dec</th>\n",
              "    </tr>\n",
              "  </thead>\n",
              "  <tbody>\n",
              "    <tr>\n",
              "      <th>count</th>\n",
              "      <td>7.380000e+02</td>\n",
              "      <td>7.380000e+02</td>\n",
              "      <td>7.380000e+02</td>\n",
              "      <td>7.380000e+02</td>\n",
              "      <td>7.380000e+02</td>\n",
              "      <td>7.380000e+02</td>\n",
              "      <td>7.380000e+02</td>\n",
              "      <td>738.000000</td>\n",
              "    </tr>\n",
              "    <tr>\n",
              "      <th>mean</th>\n",
              "      <td>7.636302e-02</td>\n",
              "      <td>7.601423e-02</td>\n",
              "      <td>8.228685e-02</td>\n",
              "      <td>7.835570e-02</td>\n",
              "      <td>7.693341e-02</td>\n",
              "      <td>7.259611e-02</td>\n",
              "      <td>6.315846e-02</td>\n",
              "      <td>0.074563</td>\n",
              "    </tr>\n",
              "    <tr>\n",
              "      <th>std</th>\n",
              "      <td>2.471850e-01</td>\n",
              "      <td>2.409141e-01</td>\n",
              "      <td>2.569466e-01</td>\n",
              "      <td>2.501188e-01</td>\n",
              "      <td>2.349259e-01</td>\n",
              "      <td>2.437666e-01</td>\n",
              "      <td>2.023189e-01</td>\n",
              "      <td>0.139829</td>\n",
              "    </tr>\n",
              "    <tr>\n",
              "      <th>min</th>\n",
              "      <td>5.418206e-25</td>\n",
              "      <td>6.555193e-21</td>\n",
              "      <td>5.922554e-28</td>\n",
              "      <td>1.681119e-21</td>\n",
              "      <td>1.151339e-16</td>\n",
              "      <td>1.972972e-26</td>\n",
              "      <td>2.854579e-10</td>\n",
              "      <td>0.000008</td>\n",
              "    </tr>\n",
              "    <tr>\n",
              "      <th>25%</th>\n",
              "      <td>3.495748e-13</td>\n",
              "      <td>1.554455e-09</td>\n",
              "      <td>3.593436e-15</td>\n",
              "      <td>4.853245e-13</td>\n",
              "      <td>9.941018e-08</td>\n",
              "      <td>1.389618e-11</td>\n",
              "      <td>8.784761e-05</td>\n",
              "      <td>0.011999</td>\n",
              "    </tr>\n",
              "    <tr>\n",
              "      <th>50%</th>\n",
              "      <td>3.471172e-11</td>\n",
              "      <td>3.636643e-08</td>\n",
              "      <td>2.126758e-13</td>\n",
              "      <td>9.421715e-12</td>\n",
              "      <td>8.562850e-07</td>\n",
              "      <td>5.178015e-10</td>\n",
              "      <td>4.112124e-04</td>\n",
              "      <td>0.021982</td>\n",
              "    </tr>\n",
              "    <tr>\n",
              "      <th>75%</th>\n",
              "      <td>1.128786e-07</td>\n",
              "      <td>2.719739e-05</td>\n",
              "      <td>2.186020e-08</td>\n",
              "      <td>1.673311e-07</td>\n",
              "      <td>2.903491e-04</td>\n",
              "      <td>1.735636e-06</td>\n",
              "      <td>6.172426e-03</td>\n",
              "      <td>0.067835</td>\n",
              "    </tr>\n",
              "    <tr>\n",
              "      <th>max</th>\n",
              "      <td>1.000000e+00</td>\n",
              "      <td>1.000000e+00</td>\n",
              "      <td>1.000000e+00</td>\n",
              "      <td>1.000000e+00</td>\n",
              "      <td>9.999995e-01</td>\n",
              "      <td>1.000000e+00</td>\n",
              "      <td>1.000000e+00</td>\n",
              "      <td>0.999725</td>\n",
              "    </tr>\n",
              "  </tbody>\n",
              "</table>\n",
              "</div>"
            ],
            "text/plain": [
              "                May           Jun  ...           Nov         Dec\n",
              "count  7.380000e+02  7.380000e+02  ...  7.380000e+02  738.000000\n",
              "mean   7.636302e-02  7.601423e-02  ...  6.315846e-02    0.074563\n",
              "std    2.471850e-01  2.409141e-01  ...  2.023189e-01    0.139829\n",
              "min    5.418206e-25  6.555193e-21  ...  2.854579e-10    0.000008\n",
              "25%    3.495748e-13  1.554455e-09  ...  8.784761e-05    0.011999\n",
              "50%    3.471172e-11  3.636643e-08  ...  4.112124e-04    0.021982\n",
              "75%    1.128786e-07  2.719739e-05  ...  6.172426e-03    0.067835\n",
              "max    1.000000e+00  1.000000e+00  ...  1.000000e+00    0.999725\n",
              "\n",
              "[8 rows x 8 columns]"
            ]
          },
          "metadata": {
            "tags": []
          },
          "execution_count": 149
        }
      ]
    },
    {
      "cell_type": "code",
      "metadata": {
        "id": "fxCTQs7LMhZh",
        "colab_type": "code",
        "colab": {
          "base_uri": "https://localhost:8080/",
          "height": 202
        },
        "outputId": "13f48305-9658-4f4f-c736-95955eb371ea"
      },
      "source": [
        "preidct_df.head()"
      ],
      "execution_count": 150,
      "outputs": [
        {
          "output_type": "execute_result",
          "data": {
            "text/html": [
              "<div>\n",
              "<style scoped>\n",
              "    .dataframe tbody tr th:only-of-type {\n",
              "        vertical-align: middle;\n",
              "    }\n",
              "\n",
              "    .dataframe tbody tr th {\n",
              "        vertical-align: top;\n",
              "    }\n",
              "\n",
              "    .dataframe thead th {\n",
              "        text-align: right;\n",
              "    }\n",
              "</style>\n",
              "<table border=\"1\" class=\"dataframe\">\n",
              "  <thead>\n",
              "    <tr style=\"text-align: right;\">\n",
              "      <th></th>\n",
              "      <th>May</th>\n",
              "      <th>Jun</th>\n",
              "      <th>Jul</th>\n",
              "      <th>Aug</th>\n",
              "      <th>Sep</th>\n",
              "      <th>Oct</th>\n",
              "      <th>Nov</th>\n",
              "      <th>Dec</th>\n",
              "    </tr>\n",
              "  </thead>\n",
              "  <tbody>\n",
              "    <tr>\n",
              "      <th>DB10AF3E-0F92-E011-A5C6-B6A03279A8B3</th>\n",
              "      <td>4.366563e-11</td>\n",
              "      <td>3.797150e-09</td>\n",
              "      <td>1.926904e-15</td>\n",
              "      <td>8.961020e-12</td>\n",
              "      <td>2.215334e-06</td>\n",
              "      <td>2.872748e-12</td>\n",
              "      <td>0.000027</td>\n",
              "      <td>0.012617</td>\n",
              "    </tr>\n",
              "    <tr>\n",
              "      <th>DB1CE471-B20F-434C-B4D4-9F6D00D10976</th>\n",
              "      <td>3.016045e-12</td>\n",
              "      <td>5.041435e-08</td>\n",
              "      <td>2.560138e-12</td>\n",
              "      <td>1.727891e-11</td>\n",
              "      <td>1.836994e-07</td>\n",
              "      <td>5.393030e-09</td>\n",
              "      <td>0.002362</td>\n",
              "      <td>0.022391</td>\n",
              "    </tr>\n",
              "    <tr>\n",
              "      <th>F771E77B-341D-4672-B6AD-A43500AB411B</th>\n",
              "      <td>1.634858e-08</td>\n",
              "      <td>1.066794e-04</td>\n",
              "      <td>9.502329e-01</td>\n",
              "      <td>9.348279e-01</td>\n",
              "      <td>2.671570e-03</td>\n",
              "      <td>2.004994e-06</td>\n",
              "      <td>0.020446</td>\n",
              "      <td>0.151642</td>\n",
              "    </tr>\n",
              "    <tr>\n",
              "      <th>F77DFB42-B83B-47FD-BBA9-A88D00E983C1</th>\n",
              "      <td>4.922033e-11</td>\n",
              "      <td>1.261103e-07</td>\n",
              "      <td>1.885768e-10</td>\n",
              "      <td>5.853789e-05</td>\n",
              "      <td>9.807556e-01</td>\n",
              "      <td>7.110019e-01</td>\n",
              "      <td>0.016395</td>\n",
              "      <td>0.079006</td>\n",
              "    </tr>\n",
              "    <tr>\n",
              "      <th>E9D0885E-57E7-4EE6-A384-A61200D8ABF1</th>\n",
              "      <td>3.409567e-06</td>\n",
              "      <td>3.308456e-06</td>\n",
              "      <td>2.909796e-11</td>\n",
              "      <td>7.984137e-09</td>\n",
              "      <td>2.735232e-05</td>\n",
              "      <td>5.337688e-09</td>\n",
              "      <td>0.000440</td>\n",
              "      <td>0.039406</td>\n",
              "    </tr>\n",
              "  </tbody>\n",
              "</table>\n",
              "</div>"
            ],
            "text/plain": [
              "                                               May  ...       Dec\n",
              "DB10AF3E-0F92-E011-A5C6-B6A03279A8B3  4.366563e-11  ...  0.012617\n",
              "DB1CE471-B20F-434C-B4D4-9F6D00D10976  3.016045e-12  ...  0.022391\n",
              "F771E77B-341D-4672-B6AD-A43500AB411B  1.634858e-08  ...  0.151642\n",
              "F77DFB42-B83B-47FD-BBA9-A88D00E983C1  4.922033e-11  ...  0.079006\n",
              "E9D0885E-57E7-4EE6-A384-A61200D8ABF1  3.409567e-06  ...  0.039406\n",
              "\n",
              "[5 rows x 8 columns]"
            ]
          },
          "metadata": {
            "tags": []
          },
          "execution_count": 150
        }
      ]
    },
    {
      "cell_type": "code",
      "metadata": {
        "id": "CFEWbwOUiIug",
        "colab_type": "code",
        "colab": {
          "base_uri": "https://localhost:8080/",
          "height": 202
        },
        "outputId": "432aef9e-88ca-45e5-eb9a-5483a9ad896e"
      },
      "source": [
        "True_df.head()"
      ],
      "execution_count": 136,
      "outputs": [
        {
          "output_type": "execute_result",
          "data": {
            "text/html": [
              "<div>\n",
              "<style scoped>\n",
              "    .dataframe tbody tr th:only-of-type {\n",
              "        vertical-align: middle;\n",
              "    }\n",
              "\n",
              "    .dataframe tbody tr th {\n",
              "        vertical-align: top;\n",
              "    }\n",
              "\n",
              "    .dataframe thead th {\n",
              "        text-align: right;\n",
              "    }\n",
              "</style>\n",
              "<table border=\"1\" class=\"dataframe\">\n",
              "  <thead>\n",
              "    <tr style=\"text-align: right;\">\n",
              "      <th></th>\n",
              "      <th>May</th>\n",
              "      <th>Jun</th>\n",
              "      <th>Jul</th>\n",
              "      <th>Aug</th>\n",
              "      <th>Sep</th>\n",
              "      <th>Oct</th>\n",
              "      <th>Nov</th>\n",
              "      <th>Dec</th>\n",
              "    </tr>\n",
              "  </thead>\n",
              "  <tbody>\n",
              "    <tr>\n",
              "      <th>DB10AF3E-0F92-E011-A5C6-B6A03279A8B3</th>\n",
              "      <td>0</td>\n",
              "      <td>0</td>\n",
              "      <td>0</td>\n",
              "      <td>0</td>\n",
              "      <td>0</td>\n",
              "      <td>0</td>\n",
              "      <td>0</td>\n",
              "      <td>0</td>\n",
              "    </tr>\n",
              "    <tr>\n",
              "      <th>DB1CE471-B20F-434C-B4D4-9F6D00D10976</th>\n",
              "      <td>0</td>\n",
              "      <td>0</td>\n",
              "      <td>0</td>\n",
              "      <td>0</td>\n",
              "      <td>0</td>\n",
              "      <td>0</td>\n",
              "      <td>0</td>\n",
              "      <td>0</td>\n",
              "    </tr>\n",
              "    <tr>\n",
              "      <th>F771E77B-341D-4672-B6AD-A43500AB411B</th>\n",
              "      <td>0</td>\n",
              "      <td>0</td>\n",
              "      <td>1</td>\n",
              "      <td>1</td>\n",
              "      <td>0</td>\n",
              "      <td>0</td>\n",
              "      <td>0</td>\n",
              "      <td>0</td>\n",
              "    </tr>\n",
              "    <tr>\n",
              "      <th>F77DFB42-B83B-47FD-BBA9-A88D00E983C1</th>\n",
              "      <td>0</td>\n",
              "      <td>0</td>\n",
              "      <td>0</td>\n",
              "      <td>0</td>\n",
              "      <td>1</td>\n",
              "      <td>1</td>\n",
              "      <td>0</td>\n",
              "      <td>0</td>\n",
              "    </tr>\n",
              "    <tr>\n",
              "      <th>E9D0885E-57E7-4EE6-A384-A61200D8ABF1</th>\n",
              "      <td>0</td>\n",
              "      <td>0</td>\n",
              "      <td>0</td>\n",
              "      <td>0</td>\n",
              "      <td>0</td>\n",
              "      <td>0</td>\n",
              "      <td>0</td>\n",
              "      <td>0</td>\n",
              "    </tr>\n",
              "  </tbody>\n",
              "</table>\n",
              "</div>"
            ],
            "text/plain": [
              "                                      May  Jun  Jul  Aug  Sep  Oct  Nov  Dec\n",
              "DB10AF3E-0F92-E011-A5C6-B6A03279A8B3    0    0    0    0    0    0    0    0\n",
              "DB1CE471-B20F-434C-B4D4-9F6D00D10976    0    0    0    0    0    0    0    0\n",
              "F771E77B-341D-4672-B6AD-A43500AB411B    0    0    1    1    0    0    0    0\n",
              "F77DFB42-B83B-47FD-BBA9-A88D00E983C1    0    0    0    0    1    1    0    0\n",
              "E9D0885E-57E7-4EE6-A384-A61200D8ABF1    0    0    0    0    0    0    0    0"
            ]
          },
          "metadata": {
            "tags": []
          },
          "execution_count": 136
        }
      ]
    },
    {
      "cell_type": "markdown",
      "metadata": {
        "id": "9EkBsx03gi_Q",
        "colab_type": "text"
      },
      "source": [
        "## Build the dataframe for predited_value and True_Value for modelling"
      ]
    },
    {
      "cell_type": "code",
      "metadata": {
        "id": "Jdr7LEypW-70",
        "colab_type": "code",
        "colab": {}
      },
      "source": [
        "# Combine dataframe to columns\n",
        "len=preidct_df.shape[0]\n",
        "name_all=[] # predicted value column\n",
        "value_all=[] # the month column\n",
        "true_all=[]\n",
        "for elem in month:\n",
        "  value_all+=(list(preidct_df[str(elem)]))\n",
        "  true_all += (list(True_df[str(elem)]))\n",
        "  name_all += [elem]*len"
      ],
      "execution_count": 132,
      "outputs": []
    },
    {
      "cell_type": "code",
      "metadata": {
        "id": "UpMyxhU2dzki",
        "colab_type": "code",
        "colab": {}
      },
      "source": [
        "# build the client column\n",
        "client=[]\n",
        "for i in range(preidct_df.shape[1]):\n",
        "  client+=Client"
      ],
      "execution_count": 133,
      "outputs": []
    },
    {
      "cell_type": "code",
      "metadata": {
        "id": "i8JfJLmZZ3bo",
        "colab_type": "code",
        "colab": {
          "base_uri": "https://localhost:8080/",
          "height": 446
        },
        "outputId": "906f4911-ba63-487d-8710-1d37e2dd97e6"
      },
      "source": [
        "# build the datafame\n",
        "dataset=pd.DataFrame(zip(value_all,name_all,true_all),columns=['Predict','Month','Label'])\n",
        "dataset['Client_id']=client\n",
        "dataset.set_index(['Month','Client_id'],inplace=True)\n",
        "dataset"
      ],
      "execution_count": 134,
      "outputs": [
        {
          "output_type": "execute_result",
          "data": {
            "text/html": [
              "<div>\n",
              "<style scoped>\n",
              "    .dataframe tbody tr th:only-of-type {\n",
              "        vertical-align: middle;\n",
              "    }\n",
              "\n",
              "    .dataframe tbody tr th {\n",
              "        vertical-align: top;\n",
              "    }\n",
              "\n",
              "    .dataframe thead th {\n",
              "        text-align: right;\n",
              "    }\n",
              "</style>\n",
              "<table border=\"1\" class=\"dataframe\">\n",
              "  <thead>\n",
              "    <tr style=\"text-align: right;\">\n",
              "      <th></th>\n",
              "      <th></th>\n",
              "      <th>Predict</th>\n",
              "      <th>Label</th>\n",
              "    </tr>\n",
              "    <tr>\n",
              "      <th>Month</th>\n",
              "      <th>Client_id</th>\n",
              "      <th></th>\n",
              "      <th></th>\n",
              "    </tr>\n",
              "  </thead>\n",
              "  <tbody>\n",
              "    <tr>\n",
              "      <th rowspan=\"5\" valign=\"top\">May</th>\n",
              "      <th>DB10AF3E-0F92-E011-A5C6-B6A03279A8B3</th>\n",
              "      <td>0.001243</td>\n",
              "      <td>0</td>\n",
              "    </tr>\n",
              "    <tr>\n",
              "      <th>DB1CE471-B20F-434C-B4D4-9F6D00D10976</th>\n",
              "      <td>0.000078</td>\n",
              "      <td>0</td>\n",
              "    </tr>\n",
              "    <tr>\n",
              "      <th>F771E77B-341D-4672-B6AD-A43500AB411B</th>\n",
              "      <td>0.000809</td>\n",
              "      <td>0</td>\n",
              "    </tr>\n",
              "    <tr>\n",
              "      <th>F77DFB42-B83B-47FD-BBA9-A88D00E983C1</th>\n",
              "      <td>0.000026</td>\n",
              "      <td>0</td>\n",
              "    </tr>\n",
              "    <tr>\n",
              "      <th>E9D0885E-57E7-4EE6-A384-A61200D8ABF1</th>\n",
              "      <td>0.013939</td>\n",
              "      <td>0</td>\n",
              "    </tr>\n",
              "    <tr>\n",
              "      <th>...</th>\n",
              "      <th>...</th>\n",
              "      <td>...</td>\n",
              "      <td>...</td>\n",
              "    </tr>\n",
              "    <tr>\n",
              "      <th rowspan=\"5\" valign=\"top\">Dec</th>\n",
              "      <th>FF6FAE85-F726-41F9-9AB0-9F6700A5F60D</th>\n",
              "      <td>0.555405</td>\n",
              "      <td>1</td>\n",
              "    </tr>\n",
              "    <tr>\n",
              "      <th>FF904024-61CC-44DF-85A4-A2DF00AC73ED</th>\n",
              "      <td>0.189036</td>\n",
              "      <td>0</td>\n",
              "    </tr>\n",
              "    <tr>\n",
              "      <th>FFC97BEE-F44B-4BF5-98DA-A82600AB81CA</th>\n",
              "      <td>0.023307</td>\n",
              "      <td>0</td>\n",
              "    </tr>\n",
              "    <tr>\n",
              "      <th>FFD43505-079D-465A-BA25-A4AB00EA8F27</th>\n",
              "      <td>0.023300</td>\n",
              "      <td>0</td>\n",
              "    </tr>\n",
              "    <tr>\n",
              "      <th>FFFC53E9-CB2E-4F30-A3B7-AA1400F5BEF6</th>\n",
              "      <td>0.026863</td>\n",
              "      <td>0</td>\n",
              "    </tr>\n",
              "  </tbody>\n",
              "</table>\n",
              "<p>5904 rows × 2 columns</p>\n",
              "</div>"
            ],
            "text/plain": [
              "                                             Predict  Label\n",
              "Month Client_id                                            \n",
              "May   DB10AF3E-0F92-E011-A5C6-B6A03279A8B3  0.001243      0\n",
              "      DB1CE471-B20F-434C-B4D4-9F6D00D10976  0.000078      0\n",
              "      F771E77B-341D-4672-B6AD-A43500AB411B  0.000809      0\n",
              "      F77DFB42-B83B-47FD-BBA9-A88D00E983C1  0.000026      0\n",
              "      E9D0885E-57E7-4EE6-A384-A61200D8ABF1  0.013939      0\n",
              "...                                              ...    ...\n",
              "Dec   FF6FAE85-F726-41F9-9AB0-9F6700A5F60D  0.555405      1\n",
              "      FF904024-61CC-44DF-85A4-A2DF00AC73ED  0.189036      0\n",
              "      FFC97BEE-F44B-4BF5-98DA-A82600AB81CA  0.023307      0\n",
              "      FFD43505-079D-465A-BA25-A4AB00EA8F27  0.023300      0\n",
              "      FFFC53E9-CB2E-4F30-A3B7-AA1400F5BEF6  0.026863      0\n",
              "\n",
              "[5904 rows x 2 columns]"
            ]
          },
          "metadata": {
            "tags": []
          },
          "execution_count": 134
        }
      ]
    },
    {
      "cell_type": "markdown",
      "metadata": {
        "id": "0XHDWWzSQ1wb",
        "colab_type": "text"
      },
      "source": [
        "## Spliting the predicted value to Test and train set for finding the threshold"
      ]
    },
    {
      "cell_type": "code",
      "metadata": {
        "id": "RZGZYVOGi8sq",
        "colab_type": "code",
        "colab": {}
      },
      "source": [
        "from sklearn.model_selection import train_test_split"
      ],
      "execution_count": 139,
      "outputs": []
    },
    {
      "cell_type": "code",
      "metadata": {
        "id": "jvEJ88GVSAG7",
        "colab_type": "code",
        "colab": {}
      },
      "source": [
        "rate=0.2\n",
        "train, test = train_test_split(dataset, test_size=rate, random_state=5)"
      ],
      "execution_count": 140,
      "outputs": []
    },
    {
      "cell_type": "code",
      "metadata": {
        "id": "SlJARs70Q0Nx",
        "colab_type": "code",
        "colab": {
          "base_uri": "https://localhost:8080/",
          "height": 35
        },
        "outputId": "44c171b5-0c1c-426f-976c-dfa8aea28332"
      },
      "source": [
        "'''split the datasets'''\n",
        "# X\n",
        "train_xth = train.Predict\n",
        "test_xth = test.Predict\n",
        "\n",
        "# Y\n",
        "train_yth = train.Label\n",
        "test_yth = test.Label\n",
        "\n",
        "print(train_xth.shape,test_xth.shape)"
      ],
      "execution_count": 141,
      "outputs": [
        {
          "output_type": "stream",
          "text": [
            "(4723,) (1181,)\n"
          ],
          "name": "stdout"
        }
      ]
    },
    {
      "cell_type": "markdown",
      "metadata": {
        "id": "mrYIzBOHwEZS",
        "colab_type": "text"
      },
      "source": [
        "### plot the Loss"
      ]
    },
    {
      "cell_type": "code",
      "metadata": {
        "id": "iHYBqPc7Gb-m",
        "colab_type": "code",
        "colab": {
          "base_uri": "https://localhost:8080/",
          "height": 313
        },
        "outputId": "2f149e44-9eba-4937-aa10-34195a483b95"
      },
      "source": [
        "import seaborn as sns\n",
        "fig, ax = plt.subplots(figsize=(5, 4))\n",
        "for i in [0,1]:\n",
        "  sns.distplot(train_xth.loc[train.Label==i], bins=50,kde=True)\n",
        "ax.set_ylabel('Total Count')\n",
        "ax.set_title('Loss')\n",
        "ax.legend('01')"
      ],
      "execution_count": 176,
      "outputs": [
        {
          "output_type": "execute_result",
          "data": {
            "text/plain": [
              "<matplotlib.legend.Legend at 0x7f4723869ba8>"
            ]
          },
          "metadata": {
            "tags": []
          },
          "execution_count": 176
        },
        {
          "output_type": "display_data",
          "data": {
            "image/png": "[encoded data removed]",
            "text/plain": [
              "<Figure size 360x288 with 1 Axes>"
            ]
          },
          "metadata": {
            "tags": [],
            "needs_background": "light"
          }
        }
      ]
    },
    {
      "cell_type": "code",
      "metadata": {
        "id": "9A6m-n_svXse",
        "colab_type": "code",
        "colab": {}
      },
      "source": [
        "# from the above plot we can choose the threshold to be 0.2 or greater\n",
        "'''Generate the list for thresholds'''\n",
        "threshold = []\n",
        "num = 4000\n",
        "start=0.2\n",
        "for i in range(num):\n",
        "  val= start+0.0001*i\n",
        "  threshold.append(val)\n"
      ],
      "execution_count": 205,
      "outputs": []
    },
    {
      "cell_type": "code",
      "metadata": {
        "id": "8I4ibi3C24vR",
        "colab_type": "code",
        "colab": {}
      },
      "source": [
        "# generate the list of f1_scores \n",
        "from sklearn.metrics import f1_score\n",
        "f1_scores=[]\n",
        "for thres in threshold:\n",
        "  Predited_label = []\n",
        "  for elem in test_xth:\n",
        "    if elem < thres:\n",
        "      Predited_label.append(0)\n",
        "    else:\n",
        "      Predited_label.append(1)\n",
        "  f1s=f1_score(test_yth, Predited_label, zero_division=0)\n",
        "  f1_scores.append(f1s)"
      ],
      "execution_count": 206,
      "outputs": []
    },
    {
      "cell_type": "code",
      "metadata": {
        "id": "9IUevWtx4a8s",
        "colab_type": "code",
        "colab": {}
      },
      "source": [
        "# get the corrodinate of the largest f1_score\n",
        "y=max(f1_scores)\n",
        "max_index = f1_scores.index(max(f1_scores))\n",
        "x=threshold[max_index]"
      ],
      "execution_count": 212,
      "outputs": []
    },
    {
      "cell_type": "code",
      "metadata": {
        "id": "-dkXY410xIPr",
        "colab_type": "code",
        "colab": {
          "base_uri": "https://localhost:8080/",
          "height": 295
        },
        "outputId": "a1fb5497-2103-4bf8-9e88-df2c65ccbe54"
      },
      "source": [
        "plt.plot(threshold,f1_scores)\n",
        "plt.title('threshold VS f1_scores')\n",
        "plt.scatter(x, y, c='red')\n",
        "plt.xlabel('Threshold')\n",
        "plt.ylabel('f1_scores')\n",
        "plt.text(x, y, '({:5.3f}, {:5.3f})'.format(x, y))\n",
        "plt.show()"
      ],
      "execution_count": 217,
      "outputs": [
        {
          "output_type": "display_data",
          "data": {
            "image/png": "[encoded data removed]",
            "text/plain": [
              "<Figure size 432x288 with 1 Axes>"
            ]
          },
          "metadata": {
            "tags": [],
            "needs_background": "light"
          }
        }
      ]
    }
  ]
}